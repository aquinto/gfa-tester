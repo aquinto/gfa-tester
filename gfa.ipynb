{
 "cells": [
  {
   "cell_type": "code",
   "execution_count": 2,
   "id": "199305d2",
   "metadata": {},
   "outputs": [],
   "source": [
    "# Created by Alexander Quinto\n",
    "import pandas as pd\n",
    "import time"
   ]
  },
  {
   "cell_type": "code",
   "execution_count": 3,
   "id": "3baeba22",
   "metadata": {},
   "outputs": [],
   "source": [
    "def generate_pub_tests(total, points_per_tests, string):\n",
    "    columns = {}\n",
    "    for i in range(1, total+1):\n",
    "        columns.update({string+str(i) : points_per_tests})\n",
    "    return columns"
   ]
  },
  {
   "cell_type": "code",
   "execution_count": 4,
   "id": "b0a00d57",
   "metadata": {},
   "outputs": [],
   "source": [
    "def check_gfa(ID, r, assignment, points_to_pass, comment_pass, comment_fail):\n",
    "    if r >= points_to_pass:\n",
    "        return {'login':ID, 'assignment':assignment, 'score': 1, 'comment': comment_pass}\n",
    "    else:\n",
    "        return {'login':ID, 'assignment':assignment, 'score': 0, 'comment': comment_fail}"
   ]
  },
  {
   "cell_type": "code",
   "execution_count": 5,
   "id": "93a0ece3",
   "metadata": {},
   "outputs": [],
   "source": [
    "def main(input_file_name, output_file_name, requirements, points_needed_to_pass_gfa, comment_pass, comment_fail, assignment):\n",
    "    start = time.time()\n",
    "    print(\"Generating GFA results for \" + assignment+\"....\")\n",
    "    df = pd.read_csv(input_file_name, header=[1])\n",
    "    column_names = ['DirectoryID'] + list(requirements.keys())\n",
    "    filtered_df = df[column_names]\n",
    "    filtered_df.set_index('DirectoryID', inplace=True)\n",
    "    filtered_df = filtered_df.sum(axis=1).to_frame()\n",
    "    filtered_df.reset_index(inplace= True)\n",
    "    filtered_df = filtered_df.rename(columns={0:'Total'})\n",
    "    generate_final_df = filtered_df.apply(lambda x: check_gfa(x.DirectoryID, x.Total, assignment, points_needed_to_pass_gfa, comment_pass, comment_fail), axis =1, result_type = 'expand')\n",
    "    generate_final_df.to_csv(output_file_name, index = False)\n",
    "    end = time.time()\n",
    "    print(\"Done! This took: \" + str(end-start) + \" seconds\")"
   ]
  },
  {
   "cell_type": "code",
   "execution_count": 6,
   "id": "9aaad30d",
   "metadata": {},
   "outputs": [
    {
     "name": "stdout",
     "output_type": "stream",
     "text": [
      "Generating GFA results for GFA....\n",
      "Done! This took: 0.024638891220092773 seconds\n"
     ]
    }
   ],
   "source": [
    "# CHANGE THE VALUES BELOW AS YOU CHECK GFA FOR OTHER PROJECTS\n",
    "\n",
    "#original csv file downloaded from grades server\n",
    "input_file_name = 'grades-gfa.csv'\n",
    "\n",
    "#gfa requirements for given assignment, key value should be the requirement title as listed in the grades server\n",
    "#value should be the points necessary to pass the GFA requirement\n",
    "#If it is an autograder projet with pub tests do this below\n",
    "number_of_pub_tests = 6\n",
    "points_per_pub_test = 1\n",
    "number_of_pub_tests_needed_to_pass = 6\n",
    "header_name = 'GFA'\n",
    "columns = generate_pub_tests(number_of_pub_tests, points_per_pub_test, header_name)\n",
    "points_total = number_of_pub_tests*points_per_pub_test\n",
    "\n",
    "# if it is not an autograded project such as a Processing project, change the 'autograded' variable to False\n",
    "# you will have to manually fill out the dictionary below since it is manually graded\n",
    "manual_columns = {'MB' : 10, 'BT' : 15, 'PC' : 15, 'SG' : 5}\n",
    "points_total_2 = sum(manual_columns.values())\n",
    "\n",
    "#requirements will be used to filter columns from the original dataframe\n",
    "#points_needed to pass gfa is the sum of the total of points a student needs to pass a GFA for a given project\n",
    "autograded = True\n",
    "requirements = columns if autograded else manual_columns\n",
    "points_needed_to_pass_gfa = points_total if autograded else points_total_2\n",
    "\n",
    "#assignment name for the GFA that is listed in the grades server. (Spring 2022 is GFA1,2,3,4 etc)\n",
    "assignment = 'GFA'\n",
    "comment_pass = 'all GFAs Passed'\n",
    "comment_fail = 'some GFAs Failed'\n",
    "\n",
    "#output file name for csv\n",
    "output_file_name = 'GFAFinal_Results.csv'\n",
    "\n",
    "#call main\n",
    "main(input_file_name, output_file_name, requirements, points_needed_to_pass_gfa, comment_pass, comment_fail, assignment)\n",
    " \n"
   ]
  }
 ],
 "metadata": {
  "interpreter": {
   "hash": "b0fa6594d8f4cbf19f97940f81e996739fb7646882a419484c72d19e05852a7e"
  },
  "kernelspec": {
   "display_name": "Python 3.9.10 64-bit",
   "language": "python",
   "name": "python3"
  },
  "language_info": {
   "codemirror_mode": {
    "name": "ipython",
    "version": 3
   },
   "file_extension": ".py",
   "mimetype": "text/x-python",
   "name": "python",
   "nbconvert_exporter": "python",
   "pygments_lexer": "ipython3",
   "version": "3.9.10"
  }
 },
 "nbformat": 4,
 "nbformat_minor": 5
}
